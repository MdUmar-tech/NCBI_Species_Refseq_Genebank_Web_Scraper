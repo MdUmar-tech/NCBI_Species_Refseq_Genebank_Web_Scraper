{
 "cells": [
  {
   "cell_type": "markdown",
   "id": "087177b0-e768-412b-bee1-00f974008789",
   "metadata": {},
   "source": [
    "# Automating Web Requests and Interactions in Python for NCBI\n",
    "# Introduction\n",
    "Welcome to this tutorial on automating web requests and interactions in Python. In this tutorial, we'll cover two popular libraries: Requests and Selenium.\n",
    "In this tutorial, we've learned how to make HTTP requests using the Requests library and automate web interactions using Selenium in Python. These libraries open up a world of possibilities for web scraping, testing, and automation tasks.\n",
    "\n",
    "Part 1: Making HTTP Requests with Requests\n",
    "Step 1: Importing the Requests Library"
   ]
  },
  {
   "cell_type": "code",
   "execution_count": 49,
   "id": "179a95b6-7112-453c-a0b1-9d30b6ef8216",
   "metadata": {},
   "outputs": [],
   "source": [
    "import requests"
   ]
  },
  {
   "cell_type": "markdown",
   "id": "5219ac3c-8dcd-4b76-af81-d2b78fcbac0c",
   "metadata": {},
   "source": [
    "Sending a GET Request"
   ]
  },
  {
   "cell_type": "code",
   "execution_count": 50,
   "id": "3e92d044-bb6a-4e78-a6dd-dd09a89e1635",
   "metadata": {},
   "outputs": [],
   "source": [
    "url = \"https://www.ncbi.nlm.nih.gov/\"\n",
    "response = requests.get(url)"
   ]
  },
  {
   "cell_type": "markdown",
   "id": "96238a5f-41f6-43c6-86b0-2a7ca49f13b6",
   "metadata": {},
   "source": [
    "Handling the Response"
   ]
  },
  {
   "cell_type": "code",
   "execution_count": 51,
   "id": "c50f9d75-d46e-4aef-9946-060ec07a2ee4",
   "metadata": {},
   "outputs": [
    {
     "name": "stdout",
     "output_type": "stream",
     "text": [
      "Website opened successfully!\n"
     ]
    }
   ],
   "source": [
    "if response.status_code == 200:\n",
    "    print(\"Website opened successfully!\")\n",
    "    # You can print or manipulate the content of the website here\n",
    "else:\n",
    "    print(\"Failed to open the website. Status code:\", response.status_code)\n"
   ]
  },
  {
   "cell_type": "markdown",
   "id": "e0479987-3455-47c1-954a-d5e07a4bd8a2",
   "metadata": {},
   "source": [
    "# Web Automation with Selenium\n",
    "We will follow this steps, since it is flexible, and it will open the web page"
   ]
  },
  {
   "cell_type": "code",
   "execution_count": 52,
   "id": "4228e20a-3c04-43e3-a03b-f031cfd75ddd",
   "metadata": {},
   "outputs": [],
   "source": [
    "#import library\n",
    "from selenium import webdriver\n",
    "\n",
    "#Opening a Chrome Browser\n",
    "driver = webdriver.Chrome() \n",
    "\n",
    "#Navigating to a Web Page\n",
    "url = \"https://www.ncbi.nlm.nih.gov/\"\n",
    "driver.get(url)\n"
   ]
  },
  {
   "cell_type": "markdown",
   "id": "e6e607d3-0dfd-4d95-8bc5-7e235e69b166",
   "metadata": {},
   "source": [
    "# Fetching Web Page Content with Requests\n",
    "In this section, we'll learn how to use the Requests library in Python to fetch the HTML content of a webpage.\n",
    "by fetching we will able to understand the structure of web page before and after load "
   ]
  },
  {
   "cell_type": "code",
   "execution_count": 53,
   "id": "90eac4ff-bf1c-42b5-bfe1-bd86f90a4f89",
   "metadata": {},
   "outputs": [
    {
     "name": "stdout",
     "output_type": "stream",
     "text": [
      "<!doctype html>\n",
      "<html>\n",
      "<head>\n",
      "    <title>Example Domain</title>\n",
      "\n",
      "    <meta charset=\"utf-8\" />\n",
      "    <meta http-equiv=\"Content-type\" content=\"text/html; charset=utf-8\" />\n",
      "    <meta name=\"viewport\" content=\"width=device-width, initial-scale=1\" />\n",
      "    <style type=\"text/css\">\n",
      "    body {\n",
      "        background-color: #f0f0f2;\n",
      "        margin: 0;\n",
      "        padding: 0;\n",
      "        font-family: -apple-system, system-ui, BlinkMacSystemFont, \"Segoe UI\", \"Open Sans\", \"Helvetica Neue\", Helvetica, Arial, sans-serif;\n",
      "        \n",
      "    }\n",
      "    div {\n",
      "        width: 600px;\n",
      "        margin: 5em auto;\n",
      "        padding: 2em;\n",
      "        background-color: #fdfdff;\n",
      "        border-radius: 0.5em;\n",
      "        box-shadow: 2px 3px 7px 2px rgba(0,0,0,0.02);\n",
      "    }\n",
      "    a:link, a:visited {\n",
      "        color: #38488f;\n",
      "        text-decoration: none;\n",
      "    }\n",
      "    @media (max-width: 700px) {\n",
      "        div {\n",
      "            margin: 0 auto;\n",
      "            width: auto;\n",
      "        }\n",
      "    }\n",
      "    </style>    \n",
      "</head>\n",
      "\n",
      "<body>\n",
      "<div>\n",
      "    <h1>Example Domain</h1>\n",
      "    <p>This domain is for use in illustrative examples in documents. You may use this\n",
      "    domain in literature without prior coordination or asking for permission.</p>\n",
      "    <p><a href=\"https://www.iana.org/domains/example\">More information...</a></p>\n",
      "</div>\n",
      "</body>\n",
      "</html>\n",
      "\n"
     ]
    }
   ],
   "source": [
    "import requests\n",
    "\n",
    "# URL of the webpage\n",
    "url = \"https://www.example.com\"\n",
    "\n",
    "# Send a GET request to the URL\n",
    "response = requests.get(url)\n",
    "\n",
    "# Check if the request was successful (status code 200)\n",
    "if response.status_code == 200:\n",
    "    # Print the HTML content of the webpage\n",
    "    print(response.text)\n",
    "else:\n",
    "    print(\"Failed to fetch the webpage. Status code:\", response.status_code)"
   ]
  },
  {
   "cell_type": "markdown",
   "id": "74186c62-6c55-4961-9cc7-c4ba84e0cb82",
   "metadata": {},
   "source": [
    "Step 1: Importing Necessary Modules"
   ]
  },
  {
   "cell_type": "code",
   "execution_count": 70,
   "id": "dd047328-455c-4810-bf76-a4e80c6b9779",
   "metadata": {},
   "outputs": [],
   "source": [
    "from selenium.webdriver.common.by import By\n",
    "from selenium.webdriver.support.ui import WebDriverWait\n",
    "from selenium.webdriver.support import expected_conditions as EC\n",
    "from selenium import webdriver\n"
   ]
  },
  {
   "cell_type": "markdown",
   "id": "234d0d90-ef4c-4e84-a9b3-0f11385af520",
   "metadata": {},
   "source": [
    "Step 2: Opening a Chrome Browser"
   ]
  },
  {
   "cell_type": "code",
   "execution_count": 71,
   "id": "48b977f5-ffde-46e7-aa71-66a0986965da",
   "metadata": {},
   "outputs": [],
   "source": [
    "# Open a Chrome browser\n",
    "driver = webdriver.Chrome()\n"
   ]
  },
  {
   "cell_type": "markdown",
   "id": "c28581e0-4e38-4003-8ddb-6bd6ad58fca9",
   "metadata": {},
   "source": [
    "Step 3: Navigating to a Web Page"
   ]
  },
  {
   "cell_type": "code",
   "execution_count": 72,
   "id": "d95c77aa-b69b-401f-b85b-38a05d2d4558",
   "metadata": {},
   "outputs": [
    {
     "name": "stdout",
     "output_type": "stream",
     "text": [
      "Opening NCBI...\n",
      "Opened NCBI\n"
     ]
    }
   ],
   "source": [
    "# URL of the website\n",
    "url = \"https://www.ncbi.nlm.nih.gov/\"\n",
    "\n",
    "# Open the website\n",
    "print(\"Opening NCBI...\")\n",
    "driver.get(url)\n",
    "print(\"Opened NCBI\")\n"
   ]
  },
  {
   "cell_type": "markdown",
   "id": "43d708c2-3107-43f9-b4b1-005999646fd1",
   "metadata": {},
   "source": [
    "Step 4: Waiting for Elements to Load\n"
   ]
  },
  {
   "cell_type": "code",
   "execution_count": 73,
   "id": "7c79cecc-7124-4e67-8398-575049b729be",
   "metadata": {},
   "outputs": [
    {
     "name": "stdout",
     "output_type": "stream",
     "text": [
      "Waiting for the search box to appear...\n",
      "Search box found\n"
     ]
    }
   ],
   "source": [
    "# Wait for the search box to be present\n",
    "print(\"Waiting for the search box to appear...\")\n",
    "search_box = WebDriverWait(driver, 10).until(\n",
    "    EC.presence_of_element_located((By.ID, \"term\"))\n",
    ")\n",
    "print(\"Search box found\")\n"
   ]
  },
  {
   "cell_type": "markdown",
   "id": "e2fa6385-eb69-445c-b805-ad90c992fca1",
   "metadata": {},
   "source": [
    "Step 5: Interacting with Web Elements"
   ]
  },
  {
   "cell_type": "code",
   "execution_count": 74,
   "id": "668f409b-fb8f-47b2-96a8-1cc7c67143b0",
   "metadata": {},
   "outputs": [
    {
     "name": "stdout",
     "output_type": "stream",
     "text": [
      "Filling in the search box...\n",
      "Filled in the search box\n",
      "Waiting for the search button to be clickable...\n",
      "Search button is clickable\n",
      "Clicking the search button...\n",
      "Clicked the search button\n"
     ]
    }
   ],
   "source": [
    "# Fill in the search box with \"Streptomyces anthocyanicus\"\n",
    "print(\"Filling in the search box...\")\n",
    "search_box.send_keys(\"Streptomyces anthocyanicus\")\n",
    "print(\"Filled in the search box\")\n",
    "\n",
    "# Find and click the search button\n",
    "print(\"Waiting for the search button to be clickable...\")\n",
    "search_button = WebDriverWait(driver, 10).until(\n",
    "    EC.element_to_be_clickable((By.ID, \"search\"))\n",
    ")\n",
    "print(\"Search button is clickable\")\n",
    "print(\"Clicking the search button...\")\n",
    "search_button.click()\n",
    "print(\"Clicked the search button\")\n"
   ]
  },
  {
   "cell_type": "code",
   "execution_count": 75,
   "id": "201cb9b4-e420-4ef7-a6c0-cc596edef76e",
   "metadata": {},
   "outputs": [
    {
     "name": "stdout",
     "output_type": "stream",
     "text": [
      "Waiting for the 'Genomes' link to be present...\n",
      "Clicking the 'Genomes' link...\n",
      "Clicked the 'Genomes' link\n"
     ]
    }
   ],
   "source": [
    "# Wait for the \"Genomes\" link to be present\n",
    "print(\"Waiting for the 'Genomes' link to be present...\")\n",
    "genome_link = WebDriverWait(driver, 10).until(\n",
    "    EC.element_to_be_clickable((By.ID, \"genome_table\"))\n",
    ")\n",
    "\n",
    "# Click the \"Genomes\" link\n",
    "print(\"Clicking the 'Genomes' link...\")\n",
    "genome_link.click()\n",
    "print(\"Clicked the 'Genomes' link\")\n",
    "\n"
   ]
  },
  {
   "cell_type": "markdown",
   "id": "0df46570-49c5-44c6-add7-6ad47db5a664",
   "metadata": {},
   "source": [
    "# Get the current url, further we will use it as to see HTML page \n",
    "its a html_file_path"
   ]
  },
  {
   "cell_type": "code",
   "execution_count": 76,
   "id": "660671f7-379b-4500-825f-801d8d32ce9e",
   "metadata": {},
   "outputs": [
    {
     "name": "stdout",
     "output_type": "stream",
     "text": [
      "Current URL: https://www.ncbi.nlm.nih.gov/datasets/genome/?taxon=68174\n"
     ]
    }
   ],
   "source": [
    "# Get the current URL at the end\n",
    "current_url = driver.current_url\n",
    "print(\"Current URL:\", current_url)"
   ]
  },
  {
   "cell_type": "code",
   "execution_count": 78,
   "id": "119d842a-8c90-4c4e-a092-00f5bd5c9824",
   "metadata": {},
   "outputs": [
    {
     "data": {
      "text/plain": [
       "True"
      ]
     },
     "execution_count": 78,
     "metadata": {},
     "output_type": "execute_result"
    }
   ],
   "source": [
    "#u can also opent using web browse but skip this steps here \n",
    "import webbrowser\n",
    "\n",
    "#Replace 'path/to/your/file.html' with the actual path to your HTML file\n",
    "html_file_path = '\"https://www.ncbi.nlm.nih.gov/datasets/genome/?taxon=68174\"' #this current url obtained previously\n",
    "\n",
    "#Open the HTML file in the default web browser\n",
    "webbrowser.open(html_file_path)"
   ]
  },
  {
   "cell_type": "markdown",
   "id": "ca180e6d-4bd5-4fcc-b511-cda2fc13ecf2",
   "metadata": {},
   "source": [
    "# After load u can check html how it looks like , Now skiping"
   ]
  },
  {
   "cell_type": "code",
   "execution_count": 64,
   "id": "598dff05-ade4-4cf4-bfdd-1dc0117d4b2e",
   "metadata": {},
   "outputs": [],
   "source": [
    "#import requests\n",
    "\n",
    "# URL of the webpage\n",
    "#url = \"https://www.ncbi.nlm.nih.gov/datasets/genome/?taxon=68174\"\n",
    "\n",
    "\n",
    "# Send a GET request to the URL\n",
    "#response = requests.get(url)\n",
    "\n",
    "# Check if the request was successful (status code 200)\n",
    "#if response.status_code == 200:\n",
    "    # Print the HTML content of the webpage\n",
    "    #print(response.text)\n",
    "#else:\n",
    "    #print(\"Failed to fetch the webpage. Status code:\", response.status_code)\n"
   ]
  },
  {
   "cell_type": "code",
   "execution_count": 65,
   "id": "54b0c09d-78fe-4e98-a44e-2ebe169f07db",
   "metadata": {},
   "outputs": [],
   "source": [
    "# After importing libraries, let's understand the webpage structure.\n",
    "# We'll load the webpage and use an HTML parser to examine its structure.\n",
    "\n",
    "# Define the search term\n",
    "#search_term = \"Streptomyces anthocyanicus JCM 5058\"\n",
    "\n",
    "# Open a Chrome browser\n",
    "#driver = webdriver.Chrome()\n",
    "\n",
    "# Construct the search URL for assembly\n",
    "#search_url = \"https://www.ncbi.nlm.nih.gov/datasets/genome/?taxon=68174\"\n",
    "\n",
    "# Navigate to the search URL\n",
    "#driver.get(search_url)\n",
    "\n",
    "# Get the page source after Selenium waits for the page to fully load\n",
    "#page_source = driver.page_source\n",
    "\n",
    "# Use BeautifulSoup to parse the page source\n",
    "#soup = BeautifulSoup(page_source, 'html.parser')\n",
    "\n",
    "#print(soup)\n",
    "    "
   ]
  },
  {
   "cell_type": "markdown",
   "id": "82941192-4920-4bef-9232-569369661cee",
   "metadata": {},
   "source": [
    "# Firts we will print the main content \n",
    "<span style=\"font-size:18px;\">we used selenium here"
   ]
  },
  {
   "cell_type": "code",
   "execution_count": 80,
   "id": "bbd5e20b-00f5-47dc-9396-70763978183a",
   "metadata": {},
   "outputs": [
    {
     "name": "stdout",
     "output_type": "stream",
     "text": [
      "Genome\n",
      "Download a genome data package including genome, transcript and protein sequence, annotation and a data report\n",
      "Selected taxa\n",
      "Streptomyces anthocyanicus\n",
      "Filters\n",
      "Download\n",
      "Select columns\n",
      "6 Genomes\n",
      "Rows per page\n",
      "20\n",
      "1-6 of 6\n",
      "Assembly\n",
      "GenBank\n",
      "RefSeq\n",
      "Scientific name\n",
      "Modifier\n",
      "Annotation\n",
      "Size (Mb)\n",
      "Level\n",
      "Release Date\n",
      "WGS accession\n",
      "Action\n",
      "ASM1465079v1 GCA_014650795.1 GCF_014650795.1 Streptomyces anthocyanicus JCM 4739 (strain)\n",
      "NCBI RefSeq\n",
      "Submitter\n",
      "8.675 Scaffold Sep, 2020 BMVQ01\n",
      "ASM3591765v1 GCA_035917655.1 GCF_035917655.1 Streptomyces anthocyanicus NBC 01777 (strain)\n",
      "NCBI RefSeq\n",
      "Submitter\n",
      "8.876 Complete Jan, 2024\n",
      "ASM3622694v1 GCA_036226945.1 GCF_036226945.1 Streptomyces anthocyanicus NBC 01687 (strain)\n",
      "NCBI RefSeq\n",
      "Submitter\n",
      "8.887 Complete Jan, 2024\n",
      "ASM1464769v1 GCA_014647695.1 GCF_014647695.1 Streptomyces anthocyanicus JCM 3037 (strain)\n",
      "NCBI RefSeq\n",
      "Submitter\n",
      "9.335 Scaffold Sep, 2020 BMPR01\n",
      "ASM1465115v1 GCA_014651155.1 GCF_014651155.1 Streptomyces anthocyanicus JCM 5058 (strain)\n",
      "NCBI RefSeq\n",
      "Submitter\n",
      "8.187 Scaffold Sep, 2020 BMWI01\n",
      "ASM2618401v1 GCA_026184015.1 GCF_026184015.1 Streptomyces anthocyanicus IPS92w (strain)\n",
      "NCBI RefSeq\n",
      "Submitter\n",
      "8.327 Contig Nov, 2022 JAPFQR01\n",
      "Rows per page\n",
      "20\n",
      "1-6 of 6\n"
     ]
    }
   ],
   "source": [
    "from selenium import webdriver\n",
    "from selenium.webdriver.common.by import By\n",
    "from selenium.webdriver.support.ui import WebDriverWait\n",
    "from selenium.webdriver.support import expected_conditions as EC\n",
    "from selenium.common.exceptions import TimeoutException\n",
    "\n",
    "# Define the search term\n",
    "search_term = \"Streptomyces anthocyanicus NBC 01687\"\n",
    "\n",
    "# Open a Chrome browser\n",
    "driver = webdriver.Chrome()\n",
    "\n",
    "# Construct the search URL for assembly\n",
    "search_url = 'https://www.ncbi.nlm.nih.gov/datasets/genome/?taxon=68174' #this current url obtained previously\n",
    "\n",
    "# Navigate to the search URL\n",
    "driver.get(search_url)\n",
    "\n",
    "try:\n",
    "  # Wait for the main content to be visible\n",
    "  main_content = WebDriverWait(driver, 10).until(EC.visibility_of_element_located((By.ID, \"maincontent\")))\n",
    "\n",
    "  # Find the assembly information\n",
    "  assembly_info = main_content.text if main_content else \"Assembly information not found\"\n",
    "  print(assembly_info)\n",
    "   \n",
    "\n",
    "except TimeoutException:\n",
    "  print(\"Elements not found or timed out waiting for them to appear.\")\n",
    "\n",
    "# Close the browser\n",
    "driver.quit()"
   ]
  },
  {
   "cell_type": "markdown",
   "id": "0a3237a8-0cb8-4310-b648-aa92cde41503",
   "metadata": {},
   "source": [
    "**As we saw assembly_info how looks like so we will process assembly_info and get the desire information**\n",
    "\n",
    "*see as below*\n"
   ]
  },
  {
   "cell_type": "code",
   "execution_count": 82,
   "id": "14332f1b-e1e5-410a-b81c-2ab471e5b721",
   "metadata": {},
   "outputs": [
    {
     "name": "stdout",
     "output_type": "stream",
     "text": [
      "GenBank number: GCA_014651155.1\n",
      "RefSeq number: GCF_014651155.1\n",
      "Genome size (Mb): 8.187\n"
     ]
    }
   ],
   "source": [
    "# Split the assembly info into lines\n",
    "lines = assembly_info.splitlines()\n",
    "\n",
    "# Find the line containing the desired organism\n",
    "target_line_index = None\n",
    "for i, line in enumerate(lines):\n",
    "    if \"Streptomyces anthocyanicus JCM 5058\" in line:\n",
    "        target_line_index = i\n",
    "        break\n",
    "\n",
    "if target_line_index is not None:\n",
    "    # Extract GenBank and RefSeq numbers from the target line\n",
    "    target_line = lines[target_line_index]\n",
    "    words = target_line.split()\n",
    "    genbank_number = words[1]\n",
    "    refseq_number = words[2]\n",
    "    print(f\"GenBank number: {genbank_number}\")\n",
    "    print(f\"RefSeq number: {refseq_number}\")\n",
    "\n",
    "    # Extract genome size from the line following the target line\n",
    "    genome_size_line = lines[target_line_index + 3]\n",
    "    genome_size_words = genome_size_line.split()\n",
    "    genome_size = genome_size_words[0]\n",
    "    print(f\"Genome size (Mb): {genome_size}\")\n",
    "else:\n",
    "    print(\"Streptomyces anthocyanicus JCM 5058 not found\")\n"
   ]
  },
  {
   "cell_type": "markdown",
   "id": "a1e3fd80-99cf-4b61-b240-cb30f5f971c3",
   "metadata": {},
   "source": [
    "<span style=\"color:blue;\">we can also get using pattern insted op splitting and looping"
   ]
  },
  {
   "cell_type": "code",
   "execution_count": 83,
   "id": "d716b470-a704-4e6c-a818-792571752a59",
   "metadata": {},
   "outputs": [
    {
     "name": "stdout",
     "output_type": "stream",
     "text": [
      "GenBank number: GCA_014650795.1\n",
      "RefSeq number: GCF_014650795.1\n",
      "Genome size (Mb): 8.675\n"
     ]
    }
   ],
   "source": [
    "# Pattern for extracting GenBank and RefSeq numbers\n",
    "genbank_refseq_pattern = r'(GCA_\\d+\\.\\d+)\\s+(GCF_\\d+\\.\\d+)\\s+Streptomyces anthocyanicus\\s+\\w+\\s+\\d+\\s*\\(strain\\)\\s*NCBI RefSeq\\s*Submitter'\n",
    "\n",
    "# Pattern for extracting genome size\n",
    "genome_size_pattern = r'Streptomyces anthocyanicus\\s+\\w+\\s+\\d+\\s*\\(strain\\)\\s*NCBI RefSeq\\s*Submitter\\s*(\\d+\\.\\d+)'\n",
    "\n",
    "# Find GenBank and RefSeq numbers\n",
    "genbank_refseq_match = re.search(genbank_refseq_pattern, assembly_info)\n",
    "if genbank_refseq_match:\n",
    "    genbank_number = genbank_refseq_match.group(1)\n",
    "    refseq_number = genbank_refseq_match.group(2)\n",
    "    print(f\"GenBank number: {genbank_number}\")\n",
    "    print(f\"RefSeq number: {refseq_number}\")\n",
    "else:\n",
    "    print(\"GenBank and RefSeq numbers not found\")\n",
    "\n",
    "# Find genome size\n",
    "genome_size_match = re.search(genome_size_pattern, assembly_info)\n",
    "if genome_size_match:\n",
    "    genome_size = genome_size_match.group(1)\n",
    "    print(f\"Genome size (Mb): {genome_size}\")\n",
    "else:\n",
    "    print(\"Genome size not found\")\n"
   ]
  },
  {
   "cell_type": "code",
   "execution_count": null,
   "id": "d23d0445-4ec3-443e-bf2f-86a2452d48cc",
   "metadata": {},
   "outputs": [],
   "source": []
  }
 ],
 "metadata": {
  "kernelspec": {
   "display_name": "Python 3 (ipykernel)",
   "language": "python",
   "name": "python3"
  },
  "language_info": {
   "codemirror_mode": {
    "name": "ipython",
    "version": 3
   },
   "file_extension": ".py",
   "mimetype": "text/x-python",
   "name": "python",
   "nbconvert_exporter": "python",
   "pygments_lexer": "ipython3",
   "version": "3.11.7"
  }
 },
 "nbformat": 4,
 "nbformat_minor": 5
}
